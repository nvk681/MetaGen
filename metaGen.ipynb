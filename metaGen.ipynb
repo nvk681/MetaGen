{
  "cells": [
    {
      "cell_type": "markdown",
      "metadata": {
        "id": "X3FK3HL6f0uy"
      },
      "source": [
        "<h1> META GEN </h1>"
      ]
    },
    {
      "cell_type": "code",
      "execution_count": 1,
      "metadata": {
        "colab": {
          "base_uri": "https://localhost:8080/"
        },
        "id": "lJo-9ASRf11M",
        "outputId": "87b5886d-d81a-4d65-e3a3-9ee957ac43a2"
      },
      "outputs": [
        {
          "name": "stdout",
          "output_type": "stream",
          "text": [
            "Hello world\n"
          ]
        }
      ],
      "source": [
        "from google.colab import drive\n",
        "drive.mount('/content/drive')\n",
        "%cd drive/MyDrive/dataset/"
      ]
    }
  ],
  "metadata": {
    "colab": {
      "name": "metaGen.ipynb",
      "provenance": []
    },
    "kernelspec": {
      "display_name": "Python 3",
      "name": "python3"
    },
    "language_info": {
      "name": "python"
    },
    "orig_nbformat": 4
  },
  "nbformat": 4,
  "nbformat_minor": 0
}
