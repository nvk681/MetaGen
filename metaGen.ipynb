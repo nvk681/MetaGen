{
  "cells": [
    {
      "cell_type": "markdown",
      "metadata": {
        "id": "X3FK3HL6f0uy"
      },
      "source": [
        "<h1> META GEN </h1>"
      ]
    },
    {
      "cell_type": "code",
      "source": [
        "print(\"Hello world\")"
      ],
      "metadata": {
        "id": "lJo-9ASRf11M",
        "outputId": "87b5886d-d81a-4d65-e3a3-9ee957ac43a2",
        "colab": {
          "base_uri": "https://localhost:8080/"
        }
      },
      "execution_count": 1,
      "outputs": [
        {
          "output_type": "stream",
          "name": "stdout",
          "text": [
            "Hello world\n"
          ]
        }
      ]
    }
  ],
  "metadata": {
    "language_info": {
      "name": "python"
    },
    "orig_nbformat": 4,
    "colab": {
      "name": "metaGen.ipynb",
      "provenance": []
    },
    "kernelspec": {
      "name": "python3",
      "display_name": "Python 3"
    }
  },
  "nbformat": 4,
  "nbformat_minor": 0
}