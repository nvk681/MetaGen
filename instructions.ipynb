{
 "cells": [
  {
   "cell_type": "markdown",
   "metadata": {},
   "source": [
    "<h1>Opening Git hub in the google colab</h1>\n",
    "\n",
    "Case 1: If the google colab and GitHub are not liked.\n",
    "\n",
    "When google collab new window is opened, select open GitHub repo. Add the repo URL: https://github.com/nvk681/MetaGen\n",
    "\n",
    "\n",
    "You will be prompted to select the notebook; you need to edit in the google colab.\n",
    "\n",
    "Case 2: If GitHub is linked. It will show the list of repos available for you to select from. \n",
    "\n",
    "\n",
    "The list of notebooks in the selected repo will be shown.\n",
    "\n",
    "\n"
   ]
  },
  {
   "cell_type": "markdown",
   "metadata": {},
   "source": [
    "<h1>Saving changes to github</h1>\n",
    "\n",
    "Once changes are done in google colab, just go to files, and save to GitHub repo.\n",
    "\n",
    "If the google colab is not linked yet, it will ask for login.\n",
    "\n",
    "Once done, it will ask for a commit message and branch selection to save the changes. "
   ]
  },
  {
   "cell_type": "markdown",
   "metadata": {},
   "source": [
    "<h1>Mounting the storage space to the google colab</h1>\n",
    "\n",
    "For our repo it is included in the orginal notebook."
   ]
  }
 ],
 "metadata": {
  "language_info": {
   "name": "python"
  },
  "orig_nbformat": 4
 },
 "nbformat": 4,
 "nbformat_minor": 2
}
